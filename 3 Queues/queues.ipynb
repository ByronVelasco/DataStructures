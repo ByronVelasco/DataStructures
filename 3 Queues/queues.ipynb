{
 "cells": [
  {
   "cell_type": "markdown",
   "id": "b4590a5a",
   "metadata": {},
   "source": [
    "# **Queues**\n",
    "**Queues** are a type of data structure that follows the First In First Out (FIFO) principle. This means that the first element added to the queue will be the first one to be removed. Queues are commonly used in scenarios where order of processing is important, such as in scheduling tasks or managing requests.\n",
    "## **1. Data Structure Design**"
   ]
  },
  {
   "cell_type": "code",
   "execution_count": null,
   "id": "7d10de3a",
   "metadata": {},
   "outputs": [],
   "source": [
    "class Queue:\n",
    "\tdef __init__(self, max_size=None):\n",
    "\t\tself.queue = [] if max_size is None else [None] * max_size\n",
    "\t\tself.max_size = max_size\n",
    "\t\tself.size = 0\n",
    "\t\tself.head = None\n",
    "\t\tself.tail = None\n",
    "\n",
    "\tdef __str__(self):\n",
    "\t\treturn str(self.queue)\n",
    "\n",
    "\tdef is_empty(self):\n",
    "\t\treturn self.size == 0\n",
    "\n",
    "\tdef enqueue(self, item):\n",
    "\t\tif self.max_size is not None and self.size >= self.max_size:\n",
    "\t\t\traise Exception(\"Queue is full\")\n",
    "\t\tself.queue.append(item)\n",
    "\t\tself.size += 1\n",
    "\t\tif self.head is None:\n",
    "\t\t\tself.head = 0\n",
    "\t\tself.tail = (self.tail + 1) if self.tail is not None else 0"
   ]
  },
  {
   "cell_type": "markdown",
   "id": "852cd414",
   "metadata": {},
   "source": [
    "## **2 Example Usage and Output**\n",
    "Let's create a `Stack` instance and demonstrate how its main attributes and methods work in practice. We'll push elements onto the stack, access the top element, pop elements, and check if the stack is empty to see how the stack maintains its properties after each operation."
   ]
  },
  {
   "cell_type": "code",
   "execution_count": 7,
   "id": "4ccacd70",
   "metadata": {},
   "outputs": [
    {
     "name": "stdout",
     "output_type": "stream",
     "text": [
      "Initial stack: []\n",
      "Is empty? True\n",
      "Top element: None\n",
      "After pushing 10: [10]\n",
      "Top element: 10\n",
      "After pushing 20: [10, 20]\n",
      "Top element: 20\n",
      "After pushing 30: [10, 20, 30]\n",
      "Top element: 30\n",
      "Stack is at maximum capacity. Cannot push.\n",
      "Popped element: 30\n",
      "After popping: [10, 20]\n",
      "Top element: 20\n",
      "Stack is empty. Cannot pop.\n",
      "After popping all elements: []\n",
      "Is empty? True\n",
      "Top element: None\n"
     ]
    }
   ],
   "source": [
    "# Initializing and using the stack\n",
    "stack = Stack(max_size=3)\n",
    "print(\"Initial stack:\", stack)\n",
    "print(\"Is empty?\", stack.is_empty())\n",
    "print(\"Top element:\", stack.top)\n",
    "\n",
    "# Push elements\n",
    "stack.push(10)\n",
    "print(\"After pushing 10:\", stack)\n",
    "print(\"Top element:\", stack.top)\n",
    "\n",
    "stack.push(20)\n",
    "print(\"After pushing 20:\", stack)\n",
    "print(\"Top element:\", stack.top)\n",
    "\n",
    "stack.push(30)\n",
    "print(\"After pushing 30:\", stack)\n",
    "print(\"Top element:\", stack.top)\n",
    "\n",
    "# Try to push beyond max_size\n",
    "stack.push(40)\n",
    "\n",
    "# Pop elements\n",
    "popped = stack.pop()\n",
    "print(\"Popped element:\", popped)\n",
    "print(\"After popping:\", stack)\n",
    "print(\"Top element:\", stack.top)\n",
    "\n",
    "# Pop remaining elements\n",
    "stack.pop()\n",
    "stack.pop()\n",
    "\n",
    "# Try to pop from an empty stack\n",
    "popped = stack.pop()\n",
    "\n",
    "# Final state of the stack\n",
    "print(\"After popping all elements:\", stack)\n",
    "print(\"Is empty?\", stack.is_empty())\n",
    "print(\"Top element:\", stack.top)"
   ]
  }
 ],
 "metadata": {
  "kernelspec": {
   "display_name": "Python 3",
   "language": "python",
   "name": "python3"
  },
  "language_info": {
   "codemirror_mode": {
    "name": "ipython",
    "version": 3
   },
   "file_extension": ".py",
   "mimetype": "text/x-python",
   "name": "python",
   "nbconvert_exporter": "python",
   "pygments_lexer": "ipython3",
   "version": "3.13.4"
  }
 },
 "nbformat": 4,
 "nbformat_minor": 5
}
