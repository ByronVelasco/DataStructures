{
 "cells": [
  {
   "cell_type": "markdown",
   "id": "b4590a5a",
   "metadata": {},
   "source": [
    "# **Queues**\n",
    "**Queues** are a type of data structure that follows the First In First Out (FIFO) principle. This means that the first element added to the queue will be the first one to be removed. Queues are commonly used in scenarios where order of processing is important, such as in scheduling tasks or managing requests.\n",
    "## **1. Data Structure Design**"
   ]
  },
  {
   "cell_type": "code",
   "execution_count": 1,
   "id": "7d10de3a",
   "metadata": {},
   "outputs": [],
   "source": [
    "class Queue:\n",
    "\tdef __init__(self, max_size):\n",
    "\t\tself.queue = [None] * max_size\n",
    "\t\tself.max_size = max_size\n",
    "\t\tself.size = 0\n",
    "\t\tself.head_index = None\n",
    "\t\tself.tail_index = None\n",
    "\n",
    "\tdef __str__(self):\n",
    "\t\treturn str(self.queue)\n",
    "\n",
    "\tdef is_empty(self):\n",
    "\t\treturn self.size == 0\n",
    "\n",
    "\tdef enqueue(self, item):\n",
    "\t\tif self.size == self.max_size:\n",
    "\t\t\tprint(\"Queue is full. Cannot enqueue item.\")\n",
    "\t\t\treturn\n",
    "\t\tif self.head_index is None:\n",
    "\t\t\tself.head_index = 0\n",
    "\t\tself.tail_index = (self.tail_index + 1) % self.max_size if self.tail_index is not None else 0\n",
    "\t\tself.queue[self.tail_index] = item\n",
    "\t\tself.size += 1\n",
    "  \n",
    "\tdef dequeue(self):\n",
    "\t\tif self.is_empty():\n",
    "\t\t\tprint(\"Queue is empty. Cannot dequeue item.\")\n",
    "\t\t\treturn\n",
    "\t\titem = self.queue[self.head_index]\n",
    "\t\tself.queue[self.head_index] = None\n",
    "\t\tself.head_index = (self.head_index + 1) % self.max_size\n",
    "\t\tself.size -= 1\n",
    "\t\tif self.size == 0:\n",
    "\t\t\tself.head_index = None\n",
    "\t\t\tself.tail_index = None\n",
    "\t\treturn item\n",
    "\n",
    "\tdef head(self):\n",
    "\t\tif self.is_empty():\n",
    "\t\t\tprint(\"Queue is empty. No head item.\")\n",
    "\t\t\treturn\n",
    "\t\treturn self.queue[self.head_index]"
   ]
  },
  {
   "cell_type": "markdown",
   "id": "852cd414",
   "metadata": {},
   "source": [
    "## **2 Example Usage and Output**\n",
    "Let's create a `Queue` instance and demonstrate how its main attributes and methods work in practice. We'll enqueue some elements, dequeue them, and check the state of the queue at each step, checking the FIFO behaviour."
   ]
  },
  {
   "cell_type": "code",
   "execution_count": 4,
   "id": "4ccacd70",
   "metadata": {},
   "outputs": [
    {
     "name": "stdout",
     "output_type": "stream",
     "text": [
      "Initial queue: [None, None, None]\n",
      "Is empty? True\n",
      "Queue is empty. No head item.\n",
      "Head element: None\n",
      "After enqueuing 10: [10, None, None]\n",
      "Head element: 10\n",
      "After enqueuing 20: [10, 20, None]\n",
      "Head element: 10\n",
      "After enqueuing 30: [10, 20, 30]\n",
      "Head element: 10\n",
      "Queue is full. Cannot enqueue item.\n",
      "Dequeued element: 10\n",
      "After dequeuing: [None, 20, 30]\n",
      "Head element: 20\n",
      "Queue is empty. Cannot dequeue item.\n",
      "After dequeuing all elements: [None, None, None]\n",
      "Is empty? True\n",
      "Queue is empty. No head item.\n",
      "Head element: None\n"
     ]
    }
   ],
   "source": [
    "# Initializing and using the queue\n",
    "queue = Queue(max_size=3)\n",
    "print(\"Initial queue:\", queue)\n",
    "print(\"Is empty?\", queue.is_empty())\n",
    "print(\"Head element:\", queue.head())\n",
    "\n",
    "# Enqueue elements\n",
    "queue.enqueue(10)\n",
    "print(\"After enqueuing 10:\", queue)\n",
    "print(\"Head element:\", queue.head())\n",
    "\n",
    "queue.enqueue(20)\n",
    "print(\"After enqueuing 20:\", queue)\n",
    "print(\"Head element:\", queue.head())\n",
    "\n",
    "queue.enqueue(30)\n",
    "print(\"After enqueuing 30:\", queue)\n",
    "print(\"Head element:\", queue.head())\n",
    "\n",
    "# Try to enqueue beyond max_size\n",
    "queue.enqueue(40)\n",
    "\n",
    "# Dequeue elements\n",
    "dequeued = queue.dequeue()\n",
    "print(\"Dequeued element:\", dequeued)\n",
    "print(\"After dequeuing:\", queue)\n",
    "print(\"Head element:\", queue.head())\n",
    "\n",
    "# Dequeue remaining elements\n",
    "queue.dequeue()\n",
    "queue.dequeue()\n",
    "\n",
    "# Try to dequeue from an empty queue\n",
    "dequeued = queue.dequeue()\n",
    "\n",
    "# Final state of the queue\n",
    "print(\"After dequeuing all elements:\", queue)\n",
    "print(\"Is empty?\", queue.is_empty())\n",
    "print(\"Head element:\", queue.head())"
   ]
  }
 ],
 "metadata": {
  "kernelspec": {
   "display_name": "Python 3",
   "language": "python",
   "name": "python3"
  },
  "language_info": {
   "codemirror_mode": {
    "name": "ipython",
    "version": 3
   },
   "file_extension": ".py",
   "mimetype": "text/x-python",
   "name": "python",
   "nbconvert_exporter": "python",
   "pygments_lexer": "ipython3",
   "version": "3.13.4"
  }
 },
 "nbformat": 4,
 "nbformat_minor": 5
}
