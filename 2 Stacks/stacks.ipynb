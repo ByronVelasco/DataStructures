{
 "cells": [
  {
   "cell_type": "markdown",
   "id": "b4590a5a",
   "metadata": {},
   "source": [
    "# **Stacks**"
   ]
  },
  {
   "cell_type": "code",
   "execution_count": null,
   "id": "7d10de3a",
   "metadata": {},
   "outputs": [],
   "source": [
    "class Stack:\n",
    "\tdef __init__(self, max_size=None):\n",
    "\t\tself.stack = []\n",
    "\t\tself.size = 0\n",
    "\t\tself.max_size = max_size\n",
    "\t\tself.top = None\n",
    "  \n",
    "\tdef __str__(self):\n",
    "\t\treturn str(self.stack)\n",
    "\n",
    "\tdef _update_top(self):\n",
    "\t\tself.top = self.stack[-1] if not self.is_empty() else None\n",
    "\n",
    "\tdef is_empty(self):\n",
    "\t\treturn self.size == 0\n",
    "  \n",
    "\tdef push(self, item):\n",
    "\t\tif self.max_size is not None and self.size == self.max_size:\n",
    "\t\t\tprint(\"Stack is at maximum capacity. Cannot push.\")\n",
    "\t\t\treturn\n",
    "\t\tself.stack.append(item)\n",
    "\t\tself.size += 1\n",
    "\t\tself._update_top()\n",
    "\n",
    "\tdef pop(self):\n",
    "\t\tif self.is_empty():\n",
    "\t\t\tprint(\"Stack is empty. Cannot pop.\")\n",
    "\t\t\treturn None\n",
    "\t"
   ]
  }
 ],
 "metadata": {
  "kernelspec": {
   "display_name": "Python 3",
   "language": "python",
   "name": "python3"
  },
  "language_info": {
   "name": "python",
   "version": "3.13.4"
  }
 },
 "nbformat": 4,
 "nbformat_minor": 5
}
