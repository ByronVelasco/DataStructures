{
 "cells": [
  {
   "cell_type": "markdown",
   "id": "b4590a5a",
   "metadata": {},
   "source": [
    "# **Stacks**\n",
    "A **Stack** is a linear data structure that follows the Last-In, First-Out (LIFO) principle. This means that the last element added to the stack is the first one to be removed. Stacks support two main operations: push, which adds an element to the top, and pop, which removes the top element. Stacks are commonly used for function call management, undo mechanisms, and parsing expressions.\n",
    "## **1. Data Structure Design**"
   ]
  },
  {
   "cell_type": "code",
   "execution_count": 6,
   "id": "7d10de3a",
   "metadata": {},
   "outputs": [],
   "source": [
    "class Stack:\n",
    "\tdef __init__(self, max_size: int = None):\n",
    "\t\tself.stack = []           \t# Internal list to store stack elements\n",
    "\t\tself.size = 0               # Current number of elements in the stack\n",
    "\t\tself.max_size = max_size    # Maximum allowed size of the stack\n",
    "\t\tself.top = None             # The top element of the stack (None if empty)\n",
    "\t\n",
    "\tdef __str__(self):\n",
    "\t\treturn str(self.stack)\n",
    "\n",
    "\tdef _update_top(self):\n",
    "\t\tself.top = self.stack[-1] if not self.is_empty() else None\n",
    "\n",
    "\tdef is_empty(self):\n",
    "\t\treturn self.size == 0\n",
    "\t\n",
    "\tdef push(self, item):\n",
    "\t\tif self.max_size is not None and self.size == self.max_size:\n",
    "\t\t\tprint(\"Stack is at maximum capacity. Cannot push.\")\n",
    "\t\t\treturn\n",
    "\t\tself.stack.append(item)\n",
    "\t\tself.size += 1\n",
    "\t\tself._update_top()\n",
    "\n",
    "\tdef pop(self):\n",
    "\t\tif self.is_empty():\n",
    "\t\t\tprint(\"Stack is empty. Cannot pop.\")\n",
    "\t\t\treturn None\n",
    "\t\titem = self.stack.pop()\n",
    "\t\tself.size -= 1\n",
    "\t\tself._update_top()\n",
    "\t\treturn item"
   ]
  },
  {
   "cell_type": "markdown",
   "id": "852cd414",
   "metadata": {},
   "source": [
    "## **2 Example Usage and Output**\n",
    "Let's create a `Stack` instance and demonstrate how its main attributes and methods work in practice. We'll push elements onto the stack, access the top element, pop elements, and check if the stack is empty to see how the stack maintains its properties after each operation."
   ]
  },
  {
   "cell_type": "code",
   "execution_count": 7,
   "id": "4ccacd70",
   "metadata": {},
   "outputs": [
    {
     "name": "stdout",
     "output_type": "stream",
     "text": [
      "Initial stack: []\n",
      "Is empty? True\n",
      "Top element: None\n",
      "After pushing 10: [10]\n",
      "Top element: 10\n",
      "After pushing 20: [10, 20]\n",
      "Top element: 20\n",
      "After pushing 30: [10, 20, 30]\n",
      "Top element: 30\n",
      "Stack is at maximum capacity. Cannot push.\n",
      "Popped element: 30\n",
      "After popping: [10, 20]\n",
      "Top element: 20\n",
      "Stack is empty. Cannot pop.\n",
      "After popping all elements: []\n",
      "Is empty? True\n",
      "Top element: None\n"
     ]
    }
   ],
   "source": [
    "# Initializing and using the stack\n",
    "stack = Stack(max_size=3)\n",
    "print(\"Initial stack:\", stack)\n",
    "print(\"Is empty?\", stack.is_empty())\n",
    "print(\"Top element:\", stack.top)\n",
    "\n",
    "# Push elements\n",
    "stack.push(10)\n",
    "print(\"After pushing 10:\", stack)\n",
    "print(\"Top element:\", stack.top)\n",
    "\n",
    "stack.push(20)\n",
    "print(\"After pushing 20:\", stack)\n",
    "print(\"Top element:\", stack.top)\n",
    "\n",
    "stack.push(30)\n",
    "print(\"After pushing 30:\", stack)\n",
    "print(\"Top element:\", stack.top)\n",
    "\n",
    "# Try to push beyond max_size\n",
    "stack.push(40)\n",
    "\n",
    "# Pop elements\n",
    "popped = stack.pop()\n",
    "print(\"Popped element:\", popped)\n",
    "print(\"After popping:\", stack)\n",
    "print(\"Top element:\", stack.top)\n",
    "\n",
    "# Pop remaining elements\n",
    "stack.pop()\n",
    "stack.pop()\n",
    "\n",
    "# Try to pop from an empty stack\n",
    "popped = stack.pop()\n",
    "\n",
    "# Final state of the stack\n",
    "print(\"After popping all elements:\", stack)\n",
    "print(\"Is empty?\", stack.is_empty())\n",
    "print(\"Top element:\", stack.top)"
   ]
  }
 ],
 "metadata": {
  "kernelspec": {
   "display_name": "Python 3",
   "language": "python",
   "name": "python3"
  },
  "language_info": {
   "codemirror_mode": {
    "name": "ipython",
    "version": 3
   },
   "file_extension": ".py",
   "mimetype": "text/x-python",
   "name": "python",
   "nbconvert_exporter": "python",
   "pygments_lexer": "ipython3",
   "version": "3.13.4"
  }
 },
 "nbformat": 4,
 "nbformat_minor": 5
}
